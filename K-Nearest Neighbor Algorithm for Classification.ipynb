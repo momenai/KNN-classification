{
 "cells": [
  {
   "cell_type": "code",
   "execution_count": 1,
   "id": "1131b470",
   "metadata": {},
   "outputs": [],
   "source": [
    "#Import main libraries\n",
    "import numpy as np\n",
    "import pandas as pd\n",
    "import matplotlib.pyplot as plt\n",
    "\n",
    "import operator\n",
    "from statistics import mode, mean"
   ]
  },
  {
   "cell_type": "code",
   "execution_count": 2,
   "id": "88c596a3",
   "metadata": {},
   "outputs": [],
   "source": [
    "np.random.seed(1000)"
   ]
  },
  {
   "cell_type": "code",
   "execution_count": 3,
   "id": "68969655",
   "metadata": {},
   "outputs": [],
   "source": [
    "# Part one\n",
    "# Convert Data from pandas DataFrames to dictionary as keys and values\n",
    "def data_split(data, normalized):\n",
    "    x = {}\n",
    "    y = {}\n",
    "    for k, value in data.iterrows():\n",
    "        if normalized:\n",
    "            x[k] = [value['RI_Norm'], value['Na_Norm'], value['Mg_Norm'], value['Al_Norm'], value['Si_Norm'],\n",
    "                    value['K_Norm'], value['Ca_Norm'], value['Ba_Norm'],\n",
    "                    value['Fe_Norm']]\n",
    "        else:\n",
    "            x[k] = [value['RI'], value['Na'], value['Mg'], value['Al'], value['Si'], value['K'], value['Ca'],\n",
    "                    value['Ba'],\n",
    "                    value['Fe']]\n",
    "        y[k] = int(value['Type'])\n",
    "    return x, y\n"
   ]
  },
  {
   "cell_type": "code",
   "execution_count": 4,
   "id": "cedd9e83",
   "metadata": {},
   "outputs": [],
   "source": [
    "# Part two\n",
    "# Convert Data from pandas DataFrames to dictionary as keys and values\n",
    "def data_split_part2(data, normalized):\n",
    "    x = {}\n",
    "    y = {}\n",
    "    # cement,slag,flyash,water,superplasticizer,coarseaggregate,fineaggregate,age,csMPa\n",
    "    for k, value in data.iterrows():\n",
    "        if normalized:\n",
    "            x[k] = [value['cement_Norm'], value['slag_Norm'], value['flyash_Norm'], value['water_Norm'],\n",
    "                    value['superplasticizer_Norm'],\n",
    "                    value['coarseaggregate_Norm'], value['fineaggregate_Norm'], value['age_Norm']]\n",
    "        else:\n",
    "            x[k] = [value['cement'], value['slag'], value['flyash'], value['water'], value['superplasticizer'],\n",
    "                    value['coarseaggregate'], value['fineaggregate'], value['age']]\n",
    "        y[k] = int(value['csMPa'])\n",
    "\n",
    "    return x, y"
   ]
  },
  {
   "cell_type": "code",
   "execution_count": 5,
   "id": "e6cd9c74",
   "metadata": {},
   "outputs": [],
   "source": [
    "# Normalize datset\n",
    "def normalization(non_normalized_data):\n",
    "    minimum = min(non_normalized_data)\n",
    "    maximum = max(non_normalized_data)\n",
    "    return [(x - minimum) / (maximum - minimum) for x in non_normalized_data]"
   ]
  },
  {
   "cell_type": "code",
   "execution_count": 6,
   "id": "f55c7b79",
   "metadata": {},
   "outputs": [],
   "source": [
    "# Using numpy permutation to shuffle data\n",
    "def shuffle_using_numpy(data):\n",
    "    temp = np.random.permutation(len(data))\n",
    "    return data.iloc[temp]"
   ]
  },
  {
   "cell_type": "code",
   "execution_count": 7,
   "id": "e54f8449",
   "metadata": {},
   "outputs": [],
   "source": [
    "# Get euclidean_distance between features\n",
    "def get_distance(node1, node2):\n",
    "    distance = np.linalg.norm(np.array(node1) - np.array(node2))\n",
    "    return distance"
   ]
  },
  {
   "cell_type": "code",
   "execution_count": 8,
   "id": "f5ad4b24",
   "metadata": {},
   "outputs": [],
   "source": [
    "# Normalize (MIN MAX SCALING) \n",
    "def normalize_glass_data(glass):\n",
    "    norm = normalization(glass['RI'].tolist())\n",
    "    glass = glass.assign(RI_Norm=norm)\n",
    "\n",
    "    norm = normalization(glass['Na'].tolist())\n",
    "    glass = glass.assign(Na_Norm=norm)\n",
    "\n",
    "    norm = normalization(glass['Mg'].tolist())\n",
    "    glass = glass.assign(Mg_Norm=norm)\n",
    "\n",
    "    norm = normalization(glass['Al'].tolist())\n",
    "    glass = glass.assign(Al_Norm=norm)\n",
    "\n",
    "    norm = normalization(glass['Si'].tolist())\n",
    "    glass = glass.assign(Si_Norm=norm)\n",
    "\n",
    "    norm = normalization(glass['K'].tolist())\n",
    "    glass = glass.assign(K_Norm=norm)\n",
    "\n",
    "    norm = normalization(glass['Ca'].tolist())\n",
    "    glass = glass.assign(Ca_Norm=norm)\n",
    "\n",
    "    norm = normalization(glass['Ba'].tolist())\n",
    "    glass = glass.assign(Ba_Norm=norm)\n",
    "\n",
    "    norm = normalization(glass['Fe'].tolist())\n",
    "    glass = glass.assign(Fe_Norm=norm)\n",
    "    return glass"
   ]
  },
  {
   "cell_type": "code",
   "execution_count": 9,
   "id": "5baec8e0",
   "metadata": {},
   "outputs": [],
   "source": [
    "\n",
    "# Normalize (MIN MAX SCALING)\n",
    "def normalize_strength_dataset(con_data):\n",
    "    norm = normalization(con_data['cement'].tolist())\n",
    "    con_data = con_data.assign(cement_Norm=norm)\n",
    "\n",
    "    norm = normalization(con_data['slag'].tolist())\n",
    "    con_data = con_data.assign(slag_Norm=norm)\n",
    "\n",
    "    norm = normalization(con_data['flyash'].tolist())\n",
    "    con_data = con_data.assign(flyash_Norm=norm)\n",
    "\n",
    "    norm = normalization(con_data['water'].tolist())\n",
    "    con_data = con_data.assign(water_Norm=norm)\n",
    "\n",
    "    norm = normalization(con_data['superplasticizer'].tolist())\n",
    "    con_data = con_data.assign(superplasticizer_Norm=norm)\n",
    "\n",
    "    norm = normalization(con_data['coarseaggregate'].tolist())\n",
    "    con_data = con_data.assign(coarseaggregate_Norm=norm)\n",
    "\n",
    "    norm = normalization(con_data['fineaggregate'].tolist())\n",
    "    con_data = con_data.assign(fineaggregate_Norm=norm)\n",
    "\n",
    "    norm = normalization(con_data['age'].tolist())\n",
    "    con_data = con_data.assign(age_Norm=norm)\n",
    "    return con_data\n",
    "\n"
   ]
  },
  {
   "cell_type": "code",
   "execution_count": 10,
   "id": "8ec5f6f6",
   "metadata": {},
   "outputs": [],
   "source": [
    "def nearest_neighbor(glass, weighted, K, normalized):\n",
    "    folds = 5\n",
    "    fold_size = len(glass) // folds\n",
    "    start = 0\n",
    "    accuracy = 0\n",
    "    for k in range(1, folds + 1):\n",
    "        test = pd.DataFrame(glass[start:fold_size * k])\n",
    "\n",
    "        train = pd.DataFrame(data=None)\n",
    "        frame2 = glass[fold_size * k:len(glass)]\n",
    "        frame1 = glass[:start]\n",
    "\n",
    "        start = start + fold_size\n",
    "\n",
    "        if len(frame1) == 0:\n",
    "            train = frame2\n",
    "        elif len(frame2) == 0:\n",
    "            train = frame1\n",
    "        else:\n",
    "            train = frame1.append(frame2, ignore_index=False)\n",
    "\n",
    "            # train = glass - test\n",
    "        x_train, y_train = data_split(train, normalized)\n",
    "        x_test, y_test = data_split(test, normalized)\n",
    "        local_accuracy = 0\n",
    "        correct = 0\n",
    "        for k_test, v_test in x_test.items():\n",
    "            distance = []\n",
    "            for k_train, v_train in x_train.items():\n",
    "                euclidean_distance = get_distance(v_train, v_test)\n",
    "                distance.append((euclidean_distance, k_train))\n",
    "\n",
    "            distance = sorted(distance)[:K]\n",
    "            weights = {}\n",
    "            labels = []\n",
    "            if weighted:  # Wieghted KNN\n",
    "                # print(\"Index\", k_test, \"Dist\", distance)\n",
    "                for d in distance:\n",
    "                    if d[0] != 0:\n",
    "                        # print(d, y_train[d[1]])\n",
    "                        labels.append(y_train[d[1]])\n",
    "                        if y_train[d[1]] not in weights:\n",
    "                            weights[y_train[d[1]]] = 1 / d[0]\n",
    "\n",
    "                        else:\n",
    "                            weights[y_train[d[1]]] += 1 / d[0]\n",
    "              \n",
    "                if weights:\n",
    "                    if y_test[k_test] == max(weights.items(), key=operator.itemgetter(1))[0]:\n",
    "                        correct += 1\n",
    "\n",
    "            else:  # Normal KNN\n",
    "                for d in distance:\n",
    "                    labels.append(y_train[d[1]])\n",
    "                if mode(labels) == y_test[k_test]:\n",
    "                    correct += 1\n",
    "\n",
    "        local_accuracy = 100 * (correct / len(x_test))\n",
    "        accuracy += local_accuracy\n",
    "\n",
    "    #         print(\"At at Fold\", k, \"Accuracy is =\", local_accuracy)\n",
    "    print(\"The accuracy of nearest_neighbor  after 5 k_folds is {}% \\n\\n\".format(accuracy / 5))\n",
    "\n",
    "    return accuracy / 5"
   ]
  },
  {
   "cell_type": "code",
   "execution_count": 12,
   "id": "4c5d1dce",
   "metadata": {},
   "outputs": [],
   "source": [
    "glass = pd.read_csv(\"glass.csv\")\n"
   ]
  },
  {
   "cell_type": "code",
   "execution_count": 13,
   "id": "7b7f231c",
   "metadata": {},
   "outputs": [],
   "source": [
    "# Shuffle and Normalize data set\n",
    "glass = shuffle_using_numpy(glass)\n",
    "glass = normalize_glass_data(glass)"
   ]
  },
  {
   "cell_type": "code",
   "execution_count": 14,
   "id": "433cc8d8",
   "metadata": {},
   "outputs": [
    {
     "name": "stdout",
     "output_type": "stream",
     "text": [
      "When k equal =  1\n",
      "The accuracy of nearest_neighbor  after 5 k_folds is 68.0952380952381% \n",
      "\n",
      "\n",
      "The accuracy of nearest_neighbor  after 5 k_folds is 66.19047619047618% \n",
      "\n",
      "\n",
      "The accuracy of nearest_neighbor  after 5 k_folds is 68.0952380952381% \n",
      "\n",
      "\n",
      "The accuracy of nearest_neighbor  after 5 k_folds is 66.19047619047618% \n",
      "\n",
      "\n",
      "When k equal =  3\n",
      "The accuracy of nearest_neighbor  after 5 k_folds is 67.14285714285715% \n",
      "\n",
      "\n",
      "The accuracy of nearest_neighbor  after 5 k_folds is 66.66666666666667% \n",
      "\n",
      "\n",
      "The accuracy of nearest_neighbor  after 5 k_folds is 66.19047619047619% \n",
      "\n",
      "\n",
      "The accuracy of nearest_neighbor  after 5 k_folds is 66.66666666666667% \n",
      "\n",
      "\n",
      "When k equal =  5\n",
      "The accuracy of nearest_neighbor  after 5 k_folds is 68.0952380952381% \n",
      "\n",
      "\n",
      "The accuracy of nearest_neighbor  after 5 k_folds is 65.23809523809524% \n",
      "\n",
      "\n",
      "The accuracy of nearest_neighbor  after 5 k_folds is 70.0% \n",
      "\n",
      "\n",
      "The accuracy of nearest_neighbor  after 5 k_folds is 66.19047619047619% \n",
      "\n",
      "\n",
      "When k equal =  7\n",
      "The accuracy of nearest_neighbor  after 5 k_folds is 63.80952380952381% \n",
      "\n",
      "\n",
      "The accuracy of nearest_neighbor  after 5 k_folds is 63.333333333333336% \n",
      "\n",
      "\n",
      "The accuracy of nearest_neighbor  after 5 k_folds is 66.66666666666667% \n",
      "\n",
      "\n",
      "The accuracy of nearest_neighbor  after 5 k_folds is 66.66666666666667% \n",
      "\n",
      "\n",
      "When k equal =  9\n",
      "The accuracy of nearest_neighbor  after 5 k_folds is 63.333333333333336% \n",
      "\n",
      "\n",
      "The accuracy of nearest_neighbor  after 5 k_folds is 60.95238095238095% \n",
      "\n",
      "\n",
      "The accuracy of nearest_neighbor  after 5 k_folds is 66.19047619047619% \n",
      "\n",
      "\n",
      "The accuracy of nearest_neighbor  after 5 k_folds is 63.33333333333333% \n",
      "\n",
      "\n",
      "['68.10', '67.14', '68.10', '63.81', '63.33']\n",
      "['66.19', '66.67', '65.24', '63.33', '60.95']\n",
      "['68.10', '66.19', '70.00', '66.67', '66.19']\n",
      "['66.19', '66.67', '66.19', '66.67', '63.33']\n"
     ]
    }
   ],
   "source": [
    "# Train and test with(1,3,5,7,9)Ks, then save results  in arrays\n",
    "non_weighted_non_norm1 = []\n",
    "non_weighted_norm1 = []\n",
    "weighted_non_norm1 = []\n",
    "weighted_norm1 = []\n",
    "\n",
    "# # part once Glass classification\n",
    "for k in range(1, 11, 2):\n",
    "    # With normalization\n",
    "    print(\"When k equal = \",k)\n",
    "    non_weighted_non_norm1.append(\"%.2f\" % nearest_neighbor(glass, False, k, False))\n",
    "    # weighted KNN\n",
    "    non_weighted_norm1.append(\"%.2f\" % nearest_neighbor(glass, False, k, True))\n",
    "    # Without normalization\n",
    "    weighted_non_norm1.append(\"%.2f\" % nearest_neighbor(glass, True, k, False))\n",
    "    # weighted KNN\n",
    "    weighted_norm1.append(\"%.2f\" % nearest_neighbor(glass, True, k, True))\n",
    "\n",
    "print(non_weighted_non_norm1)\n",
    "print(non_weighted_norm1)\n",
    "print(weighted_non_norm1)\n",
    "print(weighted_norm1)"
   ]
  },
  {
   "cell_type": "code",
   "execution_count": 15,
   "id": "8ffcb455",
   "metadata": {},
   "outputs": [
    {
     "name": "stdout",
     "output_type": "stream",
     "text": [
      "66.096\n",
      "64.476\n",
      "67.42999999999999\n",
      "65.81\n"
     ]
    }
   ],
   "source": [
    "import statistics\n",
    "\n",
    "print(statistics.mean([float(i) for i in non_weighted_non_norm1] ))\n",
    "print(statistics.mean( [float(i) for i in non_weighted_norm1] ))\n",
    "print(statistics.mean([float(i) for i in weighted_non_norm1]))\n",
    "print(statistics.mean([float(i) for i in weighted_norm1]))"
   ]
  },
  {
   "cell_type": "code",
   "execution_count": 16,
   "id": "0ff5266f",
   "metadata": {},
   "outputs": [
    {
     "data": {
      "image/png": "[encoded data removed]",
      "text/plain": [
       "<Figure size 432x288 with 1 Axes>"
      ]
     },
     "metadata": {
      "needs_background": "light"
     },
     "output_type": "display_data"
    }
   ],
   "source": [
    "#Plot a line graph\n",
    "x= [1,3,5,7,9]\n",
    "plt.plot(x,weighted_non_norm1, label='weighted_non_norm1')\n",
    "plt.plot(x,non_weighted_norm1, label='non_weighted_norm1')\n",
    "plt.plot(x,weighted_non_norm1, label='weighted_non_norm1')\n",
    "plt.plot(x,weighted_norm1, label='weighted_norm1')\n",
    "plt.title(\"Interactive Plot\")\n",
    "plt.xlabel(\"X-axis\")\n",
    "plt.ylabel(\"Y-axis\")\n",
    "plt.legend()\n",
    "plt.title(\"Glass Classification\")\n",
    "plt.show()\n"
   ]
  },
  {
   "cell_type": "code",
   "execution_count": null,
   "id": "fb7a94be",
   "metadata": {},
   "outputs": [],
   "source": []
  }
 ],
 "metadata": {
  "kernelspec": {
   "display_name": "Python 3",
   "language": "python",
   "name": "python3"
  },
  "language_info": {
   "codemirror_mode": {
    "name": "ipython",
    "version": 3
   },
   "file_extension": ".py",
   "mimetype": "text/x-python",
   "name": "python",
   "nbconvert_exporter": "python",
   "pygments_lexer": "ipython3",
   "version": "3.8.5"
  }
 },
 "nbformat": 4,
 "nbformat_minor": 5
}
